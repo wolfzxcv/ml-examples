{
  "nbformat": 4,
  "nbformat_minor": 0,
  "metadata": {
    "colab": {
      "provenance": [],
      "authorship_tag": "ABX9TyPqZFWdTZXJkpoHQRQgE02d",
      "include_colab_link": true
    },
    "kernelspec": {
      "name": "python3",
      "display_name": "Python 3"
    },
    "language_info": {
      "name": "python"
    }
  },
  "cells": [
    {
      "cell_type": "markdown",
      "metadata": {
        "id": "view-in-github",
        "colab_type": "text"
      },
      "source": [
        "<a href=\"https://colab.research.google.com/github/wolfzxcv/ml-examples/blob/master/intent_classification.ipynb\" target=\"_parent\"><img src=\"https://colab.research.google.com/assets/colab-badge.svg\" alt=\"Open In Colab\"/></a>"
      ]
    },
    {
      "cell_type": "code",
      "execution_count": null,
      "metadata": {
        "id": "3vIeYXP-qARJ"
      },
      "outputs": [],
      "source": [
        "from pandas import read_csv\n",
        "\n",
        "url = 'https://raw.githubusercontent.com/wolfzxcv/ml-examples/master/IC.csv'\n",
        "dataset=read_csv(url, skiprows=1, header=None)\n",
        "sentences = dataset.iloc[:, 0]\n",
        "intentions = dataset.iloc[:, 1]"
      ]
    },
    {
      "cell_type": "code",
      "source": [
        "print(sentences)"
      ],
      "metadata": {
        "colab": {
          "base_uri": "https://localhost:8080/"
        },
        "id": "fK9PbanZqSH9",
        "outputId": "633ce1f3-4175-40b2-86f0-bcf727bcb386"
      },
      "execution_count": null,
      "outputs": [
        {
          "output_type": "stream",
          "name": "stdout",
          "text": [
            "0                        How is the weather today\n",
            "1                              Will it rain today\n",
            "2                What's the forecast for tomorrow\n",
            "3                             Is it sunny outside\n",
            "4                     Do I need an umbrella today\n",
            "                          ...                    \n",
            "109        What should I do if I lose my passport\n",
            "110                  How do I navigate a new city\n",
            "111       What's the best way to travel with kids\n",
            "112                        How do I avoid jet lag\n",
            "113    What are the must-see attractions in Paris\n",
            "Name: 0, Length: 114, dtype: object\n"
          ]
        }
      ]
    },
    {
      "cell_type": "code",
      "source": [
        "# document https://scikit-learn.org/stable/modules/generated/sklearn.feature_extraction.text.CountVectorizer.html\n",
        "from sklearn.feature_extraction.text import CountVectorizer\n",
        "feature_extractor = CountVectorizer(analyzer=\"word\", ngram_range=(1, 2), binary=True,\n",
        "            token_pattern=r'([a-zA-Z]+|\\w)')\n",
        "X = feature_extractor.fit_transform(sentences)\n",
        "\n",
        "# Check how many n-grams do we get\n",
        "len(feature_extractor.get_feature_names_out())\n",
        "feature_extractor.get_feature_names_out()"
      ],
      "metadata": {
        "colab": {
          "base_uri": "https://localhost:8080/"
        },
        "id": "nxv9RIqAtStf",
        "outputId": "949824aa-908f-45e2-9291-bf59ee4b70c5",
        "collapsed": true
      },
      "execution_count": null,
      "outputs": [
        {
          "output_type": "execute_result",
          "data": {
            "text/plain": [
              "array(['5', '5 kgs', 'a', 'a beginner', 'a budget', 'a chance', 'a day',\n",
              "       'a fee', 'a flight', 'a great', 'a healthy', 'a heatwave',\n",
              "       'a hotel', 'a membership', 'a month', 'a new', 'a perfect',\n",
              "       'a pleasure', 'a trip', 'a visa', 'a workout', 'abs', 'access',\n",
              "       'access member', 'account', 'activate', 'activate my', 'after',\n",
              "       'after a', 'afternoon', 'air', 'air quality', 'all', 'all for',\n",
              "       'an', 'an account', 'an international', 'an umbrella', 'any',\n",
              "       'any discounts', 'any membership', 'any more', 'any severe',\n",
              "       'apply', 'apply for', 'apps', 'are', 'are some', 'are the',\n",
              "       'are there', 'are things', 'are you', 'arms', 'at', 'at the',\n",
              "       'attractions', 'attractions in', 'avoid', 'avoid jet', 'be',\n",
              "       'be cloudy', 'be tomorrow', 'be windy', 'beach', 'been',\n",
              "       'beginner', 'beginner workout', 'belly', 'belly fat', 'benefits',\n",
              "       'benefits of', 'best', 'best exercise', 'best time', 'best travel',\n",
              "       'best way', 'book', 'book a', 'budget', 'build', 'build muscle',\n",
              "       'bye', 'bye bye', 'call', 'call it', 'can', 'can i', 'can you',\n",
              "       'cancel', 'cancel my', 'cardio', 'cardio exercises', 'care',\n",
              "       'catch', 'catch you', 'chance', 'chance of', 'change', 'change my',\n",
              "       'cheap', 'cheap flights', 'check', 'check my', 'city', 'clear',\n",
              "       'clear for', 'close', 'close my', 'cloudy', 'cloudy today', 'code',\n",
              "       'cold', 'cold will', 'coming', 'contact', 'contact customer',\n",
              "       'content', 'currency', 'currency when', 'currently', 'customer',\n",
              "       'customer support', 'cut', 'cut down', 'daily', 'day', 'day to',\n",
              "       'deals', 'destinations', 'diet', 'diet plan', 'discounts',\n",
              "       'discounts for', 'do', 'do i', 'do if', 'do you', 'does',\n",
              "       'does it', 'don', 'don t', 'done', 'done for', 'down', 'down 5',\n",
              "       'drink', 'drink daily', 'eat', 'eat to', 'effective',\n",
              "       'effective workout', 'efficiently', 'efficiently for', 'else',\n",
              "       'evening', 'everyone', 'exchange', 'exchange currency', 'exercise',\n",
              "       'exercise for', 'exercises', 'expect', 'expect fog', 'expires',\n",
              "       'faster', 'fat', 'fee', 'fee to', 'find', 'find cheap',\n",
              "       'find good', 'fitness', 'flexibility', 'flight', 'flights', 'fog',\n",
              "       'fog in', 'for', 'for a', 'for abs', 'for an', 'for fitness',\n",
              "       'for members', 'for memberships', 'for now', 'for running',\n",
              "       'for the', 'for today', 'for tomorrow', 'for weight', 'forecast',\n",
              "       'forecast for', 'get', 'get this', 'get travel', 'going',\n",
              "       'going to', 'good', 'good afternoon', 'good cardio',\n",
              "       'good evening', 'good morning', 'good travel', 'goodbye', 'great',\n",
              "       'great day', 'greetings', 'happens', 'happens if', 'have',\n",
              "       'have a', 'have any', 'have you', 'healthy', 'healthy diet',\n",
              "       'heatwave', 'heatwave coming', 'hello', 'hello everyone', 'hey',\n",
              "       'hi', 'hi how', 'hi there', 'hot', 'hot will', 'hotel', 'how',\n",
              "       'how are', 'how can', 'how cold', 'how do', 'how have', 'how hot',\n",
              "       'how humid', 'how important', 'how is', 'how long', 'how much',\n",
              "       'how often', 'how s', 'humid', 'humid is', 'i', 'i access',\n",
              "       'i apply', 'i avoid', 'i book', 'i build', 'i cancel', 'i change',\n",
              "       'i check', 'i close', 'i contact', 'i cut', 'i do', 'i don',\n",
              "       'i drink', 'i eat', 'i exchange', 'i exercise', 'i expect',\n",
              "       'i find', 'i get', 'i improve', 'i include', 'i lose', 'i m',\n",
              "       'i navigate', 'i need', 'i pack', 'i plan', 'i recover',\n",
              "       'i redeem', 'i register', 'i renew', 'i reset', 'i stay', 'i tone',\n",
              "       'i transfer', 'i travel', 'i update', 'i upgrade', 'if', 'if i',\n",
              "       'if my', 'important', 'important is', 'improve', 'improve my',\n",
              "       'in', 'in a', 'in my', 'in paris', 'in the', 'include',\n",
              "       'include in', 'information', 'insurance', 'international',\n",
              "       'international trip', 'is', 'is it', 'is sleep', 'is the',\n",
              "       'is there', 'it', 'it a', 'it be', 'it get', 'it going',\n",
              "       'it outside', 'it rain', 'it s', 'it sunny', 'it take',\n",
              "       'itinerary', 'jet', 'jet lag', 'join', 'kgs', 'kgs in', 'kids',\n",
              "       'lag', 'later', 'leaving', 'like', 'like today', 'logging',\n",
              "       'logging off', 'long', 'long does', 'long time', 'lose',\n",
              "       'lose belly', 'lose my', 'lose weight', 'loss', 'm', 'm done',\n",
              "       'm leaving', 'm logging', 'm signing', 'meet', 'meet you',\n",
              "       'member', 'member only', 'members', 'membership',\n",
              "       'membership code', 'membership expires', 'membership plan',\n",
              "       'membership promotions', 'membership status', 'membership to',\n",
              "       'memberships', 'method', 'month', 'more', 'more questions',\n",
              "       'morning', 'motivated', 'motivated to', 'much', 'much water',\n",
              "       'muscle', 'must', 'must see', 'my', 'my account', 'my arms',\n",
              "       'my flexibility', 'my membership', 'my passport', 'my password',\n",
              "       'my payment', 'my profile', 'my stamina', 'my subscription',\n",
              "       'my travel', 'navigate', 'navigate a', 'need', 'need an', 'new',\n",
              "       'new city', 'next', 'next time', 'nice', 'nice to', 'no', 'no see',\n",
              "       'now', 'of', 'of day', 'of membership', 'of thunderstorms', 'off',\n",
              "       'off now', 'often', 'often should', 'okay', 'okay i', 'on', 'on a',\n",
              "       'only', 'only content', 'out', 'outside', 'pack',\n",
              "       'pack efficiently', 'paris', 'passport', 'password', 'payment',\n",
              "       'payment method', 'peace', 'peace out', 'perfect',\n",
              "       'perfect weekend', 'plan', 'plan a', 'plan an', 'plan for',\n",
              "       'pleasure', 'pleasure to', 'policy', 'policy for', 'profile',\n",
              "       'profile information', 'promotions', 'promotions currently',\n",
              "       'quality', 'quality like', 'questions', 'rain', 'rain this',\n",
              "       'rain today', 'recommend', 'recommend a', 'recover',\n",
              "       'recover after', 'redeem', 'redeem a', 'refund', 'refund policy',\n",
              "       'register', 'register for', 'renew', 'renew my', 'reset',\n",
              "       'reset my', 'right', 'right now', 'routines', 'running',\n",
              "       'running faster', 's', 's a', 's all', 's call', 's it', 's the',\n",
              "       's up', 's your', 'safety', 'safety tips', 'see',\n",
              "       'see attractions', 'see you', 'severe', 'severe weather', 'should',\n",
              "       'should i', 'signing', 'signing off', 'sleep', 'sleep for', 'snow',\n",
              "       'snow in', 'some', 'some effective', 'some good', 'some tips',\n",
              "       'some top', 'some travel', 'someone', 'someone else', 'soon',\n",
              "       'stamina', 'status', 'stay', 'stay motivated', 'subscription',\n",
              "       'sunny', 'sunny outside', 'support', 't', 't have', 'take',\n",
              "       'take care', 'take to', 'talk', 'talk to', 'temperature',\n",
              "       'temperature right', 'that', 'that s', 'the', 'the air',\n",
              "       'the beach', 'the benefits', 'the best', 'the forecast',\n",
              "       'the morning', 'the must', 'the refund', 'the temperature',\n",
              "       'the weather', 'the weekend', 'there', 'there a', 'there any',\n",
              "       'there snow', 'things', 'this', 'this afternoon', 'this weekend',\n",
              "       'thunderstorms', 'thunderstorms tonight', 'time', 'time no',\n",
              "       'time of', 'tips', 'tips for', 'to', 'to activate', 'to be',\n",
              "       'to exercise', 'to join', 'to lose', 'to meet', 'to plan',\n",
              "       'to someone', 'to travel', 'to work', 'to you', 'today',\n",
              "       'tomorrow', 'tomorrow morning', 'tone', 'tone my', 'tonight',\n",
              "       'top', 'top travel', 'transfer', 'transfer my', 'travel',\n",
              "       'travel apps', 'travel deals', 'travel destinations',\n",
              "       'travel insurance', 'travel itinerary', 'travel on',\n",
              "       'travel safety', 'travel with', 'traveling', 'trip', 'umbrella',\n",
              "       'umbrella today', 'up', 'update', 'update my', 'upgrade',\n",
              "       'upgrade my', 'visa', 'warnings', 'water', 'water should', 'way',\n",
              "       'way to', 'weather', 'weather at', 'weather clear',\n",
              "       'weather today', 'weather warnings', 'weekend', 'weekend trip',\n",
              "       'weight', 'weight loss', 'what', 'what are', 'what happens',\n",
              "       'what is', 'what s', 'what should', 'when', 'when traveling',\n",
              "       'will', 'will it', 'windy', 'windy today', 'with', 'with kids',\n",
              "       'work', 'work out', 'workout', 'workout plan', 'workout routines',\n",
              "       'you', 'you been', 'you do', 'you later', 'you next',\n",
              "       'you recommend', 'you soon', 'your', 'your day'], dtype=object)"
            ]
          },
          "metadata": {},
          "execution_count": 3
        }
      ]
    },
    {
      "cell_type": "code",
      "source": [
        "print(len(feature_extractor.get_feature_names_out()))"
      ],
      "metadata": {
        "id": "CXilopS4teMR",
        "collapsed": true,
        "colab": {
          "base_uri": "https://localhost:8080/"
        },
        "outputId": "2f918e8a-f2b6-47d7-8c8b-3aedd9e40e24"
      },
      "execution_count": null,
      "outputs": [
        {
          "output_type": "stream",
          "name": "stdout",
          "text": [
            "617\n"
          ]
        }
      ]
    },
    {
      "cell_type": "code",
      "source": [
        "from sklearn.linear_model import LogisticRegression\n",
        "\n",
        "lr = LogisticRegression(penalty=\"l2\", class_weight='balanced')\n",
        "lr.fit(X, intentions)"
      ],
      "metadata": {
        "id": "NC5Jp2fwuxkv",
        "colab": {
          "base_uri": "https://localhost:8080/",
          "height": 74
        },
        "outputId": "135ea9b8-a00b-4c3d-8e65-33eed35223ac"
      },
      "execution_count": null,
      "outputs": [
        {
          "output_type": "execute_result",
          "data": {
            "text/plain": [
              "LogisticRegression(class_weight='balanced')"
            ],
            "text/html": [
              "<style>#sk-container-id-1 {color: black;background-color: white;}#sk-container-id-1 pre{padding: 0;}#sk-container-id-1 div.sk-toggleable {background-color: white;}#sk-container-id-1 label.sk-toggleable__label {cursor: pointer;display: block;width: 100%;margin-bottom: 0;padding: 0.3em;box-sizing: border-box;text-align: center;}#sk-container-id-1 label.sk-toggleable__label-arrow:before {content: \"▸\";float: left;margin-right: 0.25em;color: #696969;}#sk-container-id-1 label.sk-toggleable__label-arrow:hover:before {color: black;}#sk-container-id-1 div.sk-estimator:hover label.sk-toggleable__label-arrow:before {color: black;}#sk-container-id-1 div.sk-toggleable__content {max-height: 0;max-width: 0;overflow: hidden;text-align: left;background-color: #f0f8ff;}#sk-container-id-1 div.sk-toggleable__content pre {margin: 0.2em;color: black;border-radius: 0.25em;background-color: #f0f8ff;}#sk-container-id-1 input.sk-toggleable__control:checked~div.sk-toggleable__content {max-height: 200px;max-width: 100%;overflow: auto;}#sk-container-id-1 input.sk-toggleable__control:checked~label.sk-toggleable__label-arrow:before {content: \"▾\";}#sk-container-id-1 div.sk-estimator input.sk-toggleable__control:checked~label.sk-toggleable__label {background-color: #d4ebff;}#sk-container-id-1 div.sk-label input.sk-toggleable__control:checked~label.sk-toggleable__label {background-color: #d4ebff;}#sk-container-id-1 input.sk-hidden--visually {border: 0;clip: rect(1px 1px 1px 1px);clip: rect(1px, 1px, 1px, 1px);height: 1px;margin: -1px;overflow: hidden;padding: 0;position: absolute;width: 1px;}#sk-container-id-1 div.sk-estimator {font-family: monospace;background-color: #f0f8ff;border: 1px dotted black;border-radius: 0.25em;box-sizing: border-box;margin-bottom: 0.5em;}#sk-container-id-1 div.sk-estimator:hover {background-color: #d4ebff;}#sk-container-id-1 div.sk-parallel-item::after {content: \"\";width: 100%;border-bottom: 1px solid gray;flex-grow: 1;}#sk-container-id-1 div.sk-label:hover label.sk-toggleable__label {background-color: #d4ebff;}#sk-container-id-1 div.sk-serial::before {content: \"\";position: absolute;border-left: 1px solid gray;box-sizing: border-box;top: 0;bottom: 0;left: 50%;z-index: 0;}#sk-container-id-1 div.sk-serial {display: flex;flex-direction: column;align-items: center;background-color: white;padding-right: 0.2em;padding-left: 0.2em;position: relative;}#sk-container-id-1 div.sk-item {position: relative;z-index: 1;}#sk-container-id-1 div.sk-parallel {display: flex;align-items: stretch;justify-content: center;background-color: white;position: relative;}#sk-container-id-1 div.sk-item::before, #sk-container-id-1 div.sk-parallel-item::before {content: \"\";position: absolute;border-left: 1px solid gray;box-sizing: border-box;top: 0;bottom: 0;left: 50%;z-index: -1;}#sk-container-id-1 div.sk-parallel-item {display: flex;flex-direction: column;z-index: 1;position: relative;background-color: white;}#sk-container-id-1 div.sk-parallel-item:first-child::after {align-self: flex-end;width: 50%;}#sk-container-id-1 div.sk-parallel-item:last-child::after {align-self: flex-start;width: 50%;}#sk-container-id-1 div.sk-parallel-item:only-child::after {width: 0;}#sk-container-id-1 div.sk-dashed-wrapped {border: 1px dashed gray;margin: 0 0.4em 0.5em 0.4em;box-sizing: border-box;padding-bottom: 0.4em;background-color: white;}#sk-container-id-1 div.sk-label label {font-family: monospace;font-weight: bold;display: inline-block;line-height: 1.2em;}#sk-container-id-1 div.sk-label-container {text-align: center;}#sk-container-id-1 div.sk-container {/* jupyter's `normalize.less` sets `[hidden] { display: none; }` but bootstrap.min.css set `[hidden] { display: none !important; }` so we also need the `!important` here to be able to override the default hidden behavior on the sphinx rendered scikit-learn.org. See: https://github.com/scikit-learn/scikit-learn/issues/21755 */display: inline-block !important;position: relative;}#sk-container-id-1 div.sk-text-repr-fallback {display: none;}</style><div id=\"sk-container-id-1\" class=\"sk-top-container\"><div class=\"sk-text-repr-fallback\"><pre>LogisticRegression(class_weight=&#x27;balanced&#x27;)</pre><b>In a Jupyter environment, please rerun this cell to show the HTML representation or trust the notebook. <br />On GitHub, the HTML representation is unable to render, please try loading this page with nbviewer.org.</b></div><div class=\"sk-container\" hidden><div class=\"sk-item\"><div class=\"sk-estimator sk-toggleable\"><input class=\"sk-toggleable__control sk-hidden--visually\" id=\"sk-estimator-id-1\" type=\"checkbox\" checked><label for=\"sk-estimator-id-1\" class=\"sk-toggleable__label sk-toggleable__label-arrow\">LogisticRegression</label><div class=\"sk-toggleable__content\"><pre>LogisticRegression(class_weight=&#x27;balanced&#x27;)</pre></div></div></div></div></div>"
            ]
          },
          "metadata": {},
          "execution_count": 5
        }
      ]
    },
    {
      "cell_type": "code",
      "source": [
        "# Transfor new input to n-gram\n",
        "user_input = ['How crazy will it rain tomorrow']\n",
        "X2 = feature_extractor.transform(user_input)\n",
        "# Check what is the dimension\n",
        "len(X2.toarray()[0])"
      ],
      "metadata": {
        "id": "CHHy3rbGviz0",
        "colab": {
          "base_uri": "https://localhost:8080/"
        },
        "outputId": "3d5eeb29-fc8b-4017-87bb-49bd038de6bc"
      },
      "execution_count": null,
      "outputs": [
        {
          "output_type": "execute_result",
          "data": {
            "text/plain": [
              "617"
            ]
          },
          "metadata": {},
          "execution_count": 6
        }
      ]
    },
    {
      "cell_type": "code",
      "source": [
        "# Check what is the feature extracted from this sentence\n",
        "print(X2)"
      ],
      "metadata": {
        "colab": {
          "base_uri": "https://localhost:8080/"
        },
        "id": "lUaw9VDSwOH4",
        "outputId": "1232b3ac-9fab-4ca8-be9a-3051486d4e7c"
      },
      "execution_count": null,
      "outputs": [
        {
          "output_type": "stream",
          "name": "stdout",
          "text": [
            "  (0, 226)\t1\n",
            "  (0, 305)\t1\n",
            "  (0, 311)\t1\n",
            "  (0, 434)\t1\n",
            "  (0, 547)\t1\n",
            "  (0, 597)\t1\n",
            "  (0, 598)\t1\n"
          ]
        }
      ]
    },
    {
      "cell_type": "code",
      "source": [
        "# Use the index we got, and check which feature do we get.\n",
        "feature_names = feature_extractor.get_feature_names_out()\n",
        "for index in X2.nonzero()[1]:\n",
        "    print(feature_names[index])"
      ],
      "metadata": {
        "id": "5QZAw-mbwOwE",
        "colab": {
          "base_uri": "https://localhost:8080/"
        },
        "outputId": "0c849bb7-3782-48ec-ec26-0b01b0a37741"
      },
      "execution_count": null,
      "outputs": [
        {
          "output_type": "stream",
          "name": "stdout",
          "text": [
            "how\n",
            "it\n",
            "it rain\n",
            "rain\n",
            "tomorrow\n",
            "will\n",
            "will it\n"
          ]
        }
      ]
    },
    {
      "cell_type": "code",
      "source": [
        "# Then we can predit the intention\n",
        "lr.predict(X2)"
      ],
      "metadata": {
        "colab": {
          "base_uri": "https://localhost:8080/"
        },
        "id": "gMQzW-PsxFPf",
        "outputId": "4951d4e6-e332-4115-9522-87cc7f62b655"
      },
      "execution_count": null,
      "outputs": [
        {
          "output_type": "execute_result",
          "data": {
            "text/plain": [
              "array(['weather'], dtype=object)"
            ]
          },
          "metadata": {},
          "execution_count": 9
        }
      ]
    },
    {
      "cell_type": "code",
      "source": [
        "# We can also check the probability for each intention\n",
        "probs = lr.predict_proba(X2)[0]\n",
        "for predict_intent, prob in sorted(zip(lr.classes_, probs), key = lambda x: x[1],reverse = True):\n",
        "    print(predict_intent, prob)"
      ],
      "metadata": {
        "colab": {
          "base_uri": "https://localhost:8080/"
        },
        "id": "oF9Lh28gxMrn",
        "outputId": "d5bdff2e-4d5c-41d6-fa95-97742b783ffd"
      },
      "execution_count": null,
      "outputs": [
        {
          "output_type": "stream",
          "name": "stdout",
          "text": [
            "weather 0.7631856662596612\n",
            "greeting 0.11833269969774443\n",
            "fitness 0.03775597049072964\n",
            "quit 0.03356810387146285\n",
            "membership 0.026888331660646737\n",
            "travel 0.02026922801975512\n"
          ]
        }
      ]
    }
  ]
}