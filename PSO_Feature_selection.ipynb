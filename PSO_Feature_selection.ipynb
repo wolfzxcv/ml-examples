{
  "nbformat": 4,
  "nbformat_minor": 0,
  "metadata": {
    "colab": {
      "provenance": [],
      "authorship_tag": "ABX9TyOO1mmvVANzn5mXbQ1mCC8u",
      "include_colab_link": true
    },
    "kernelspec": {
      "name": "python3",
      "display_name": "Python 3"
    },
    "language_info": {
      "name": "python"
    }
  },
  "cells": [
    {
      "cell_type": "markdown",
      "metadata": {
        "id": "view-in-github",
        "colab_type": "text"
      },
      "source": [
        "<a href=\"https://colab.research.google.com/github/wolfzxcv/ml-examples/blob/master/PSO_Feature_selection.ipynb\" target=\"_parent\"><img src=\"https://colab.research.google.com/assets/colab-badge.svg\" alt=\"Open In Colab\"/></a>"
      ]
    },
    {
      "cell_type": "code",
      "source": [
        "! pip install niapy"
      ],
      "metadata": {
        "colab": {
          "base_uri": "https://localhost:8080/"
        },
        "id": "nyDaWQJioGNw",
        "outputId": "9124e03f-cefb-410a-b0a5-7016ce862d2e"
      },
      "execution_count": null,
      "outputs": [
        {
          "output_type": "stream",
          "name": "stdout",
          "text": [
            "Requirement already satisfied: niapy in /usr/local/lib/python3.10/dist-packages (2.1.0)\n",
            "Requirement already satisfied: matplotlib<4.0.0,>=3.8.0 in /usr/local/lib/python3.10/dist-packages (from niapy) (3.8.2)\n",
            "Requirement already satisfied: numpy<2.0.0,>=1.26.1 in /usr/local/lib/python3.10/dist-packages (from niapy) (1.26.3)\n",
            "Requirement already satisfied: openpyxl<4.0.0,>=3.1.2 in /usr/local/lib/python3.10/dist-packages (from niapy) (3.1.2)\n",
            "Requirement already satisfied: pandas<3.0.0,>=2.1.1 in /usr/local/lib/python3.10/dist-packages (from niapy) (2.1.4)\n",
            "Requirement already satisfied: contourpy>=1.0.1 in /usr/local/lib/python3.10/dist-packages (from matplotlib<4.0.0,>=3.8.0->niapy) (1.2.0)\n",
            "Requirement already satisfied: cycler>=0.10 in /usr/local/lib/python3.10/dist-packages (from matplotlib<4.0.0,>=3.8.0->niapy) (0.12.1)\n",
            "Requirement already satisfied: fonttools>=4.22.0 in /usr/local/lib/python3.10/dist-packages (from matplotlib<4.0.0,>=3.8.0->niapy) (4.47.0)\n",
            "Requirement already satisfied: kiwisolver>=1.3.1 in /usr/local/lib/python3.10/dist-packages (from matplotlib<4.0.0,>=3.8.0->niapy) (1.4.5)\n",
            "Requirement already satisfied: packaging>=20.0 in /usr/local/lib/python3.10/dist-packages (from matplotlib<4.0.0,>=3.8.0->niapy) (23.2)\n",
            "Requirement already satisfied: pillow>=8 in /usr/local/lib/python3.10/dist-packages (from matplotlib<4.0.0,>=3.8.0->niapy) (9.4.0)\n",
            "Requirement already satisfied: pyparsing>=2.3.1 in /usr/local/lib/python3.10/dist-packages (from matplotlib<4.0.0,>=3.8.0->niapy) (3.1.1)\n",
            "Requirement already satisfied: python-dateutil>=2.7 in /usr/local/lib/python3.10/dist-packages (from matplotlib<4.0.0,>=3.8.0->niapy) (2.8.2)\n",
            "Requirement already satisfied: et-xmlfile in /usr/local/lib/python3.10/dist-packages (from openpyxl<4.0.0,>=3.1.2->niapy) (1.1.0)\n",
            "Requirement already satisfied: pytz>=2020.1 in /usr/local/lib/python3.10/dist-packages (from pandas<3.0.0,>=2.1.1->niapy) (2023.3.post1)\n",
            "Requirement already satisfied: tzdata>=2022.1 in /usr/local/lib/python3.10/dist-packages (from pandas<3.0.0,>=2.1.1->niapy) (2023.4)\n",
            "Requirement already satisfied: six>=1.5 in /usr/local/lib/python3.10/dist-packages (from python-dateutil>=2.7->matplotlib<4.0.0,>=3.8.0->niapy) (1.16.0)\n"
          ]
        }
      ]
    },
    {
      "cell_type": "code",
      "execution_count": null,
      "metadata": {
        "id": "jIk6cp8LnEAY"
      },
      "outputs": [],
      "source": [
        "from sklearn.datasets import load_breast_cancer\n",
        "from sklearn.model_selection import train_test_split, cross_val_score\n",
        "from sklearn.svm import SVC\n",
        "\n",
        "from niapy.problems import Problem\n",
        "from niapy.task import Task\n",
        "from niapy.algorithms.basic import ParticleSwarmOptimization"
      ]
    },
    {
      "cell_type": "markdown",
      "source": [
        "First implement the Problem class, which implements the optimization function defined above. It takes the training dataset, and the α parameter, which is set to 0.99 by default.\n",
        "For the objective function, the solution vector is first converted to binary, using the threshold value of 0.5. That gives us indices of the selected features. If no features were selected 1.0 is returned as the fitness. We then compute the mean accuracy of running 2-fold cross validation on the training set, and calculate the value of the optimization function defined above."
      ],
      "metadata": {
        "id": "rqMW-lW6nQmH"
      }
    },
    {
      "cell_type": "code",
      "source": [
        "class SVMFeatureSelection(Problem):\n",
        "    def __init__(self, X_train, y_train, alpha=0.99):\n",
        "        super().__init__(dimension=X_train.shape[1], lower=0, upper=1)\n",
        "        self.X_train = X_train\n",
        "        self.y_train = y_train\n",
        "        self.alpha = alpha\n",
        "\n",
        "    def _evaluate(self, x):\n",
        "        selected = x > 0.5\n",
        "        num_selected = selected.sum()\n",
        "        if num_selected == 0:\n",
        "            return 1.0\n",
        "        accuracy = cross_val_score(SVC(), self.X_train[:, selected], self.y_train, cv=2, n_jobs=-1).mean()\n",
        "        score = 1 - accuracy\n",
        "        num_features = self.X_train.shape[1]\n",
        "        return self.alpha * score + (1 - self.alpha) * (num_selected / num_features)"
      ],
      "metadata": {
        "id": "oINoLZ-UnJSG"
      },
      "execution_count": null,
      "outputs": []
    },
    {
      "cell_type": "markdown",
      "source": [
        "Load the dataset, run the algorithm and compare the results."
      ],
      "metadata": {
        "id": "R1DUAue1nTU7"
      }
    },
    {
      "cell_type": "code",
      "source": [
        "dataset = load_breast_cancer()\n",
        "X = dataset.data\n",
        "y = dataset.target\n",
        "feature_names = dataset.feature_names\n",
        "\n",
        "X_train, X_test, y_train, y_test = train_test_split(X, y, test_size=0.2, stratify=y, random_state=1234)\n",
        "\n",
        "problem = SVMFeatureSelection(X_train, y_train)\n",
        "task = Task(problem, max_iters=100)\n",
        "algorithm = ParticleSwarmOptimization(population_size=10, seed=1234)\n",
        "best_features, best_fitness = algorithm.run(task)\n",
        "\n",
        "selected_features = best_features > 0.5\n",
        "print('Number of selected features:', selected_features.sum())\n",
        "print('Selected features:', ', '.join(feature_names[selected_features].tolist()))\n",
        "\n",
        "model_selected = SVC()\n",
        "model_all = SVC()\n",
        "\n",
        "model_selected.fit(X_train[:, selected_features], y_train)\n",
        "print('Subset accuracy:', model_selected.score(X_test[:, selected_features], y_test))\n",
        "\n",
        "model_all.fit(X_train, y_train)\n",
        "print('All Features Accuracy:', model_all.score(X_test, y_test))"
      ],
      "metadata": {
        "colab": {
          "base_uri": "https://localhost:8080/"
        },
        "id": "fyNWUMRDnYdR",
        "outputId": "3e0b47c8-f6fb-4413-fa0d-faa9a028d00f"
      },
      "execution_count": null,
      "outputs": [
        {
          "output_type": "stream",
          "name": "stdout",
          "text": [
            "Number of selected features: 4\n",
            "Selected features: mean smoothness, mean concavity, mean symmetry, worst area\n",
            "Subset accuracy: 0.9210526315789473\n",
            "All Features Accuracy: 0.9122807017543859\n"
          ]
        }
      ]
    }
  ]
}