{
  "nbformat": 4,
  "nbformat_minor": 0,
  "metadata": {
    "colab": {
      "provenance": [],
      "authorship_tag": "ABX9TyMmQ5WB4V5x4RhxhGQAIiwR",
      "include_colab_link": true
    },
    "kernelspec": {
      "name": "python3",
      "display_name": "Python 3"
    },
    "language_info": {
      "name": "python"
    }
  },
  "cells": [
    {
      "cell_type": "markdown",
      "metadata": {
        "id": "view-in-github",
        "colab_type": "text"
      },
      "source": [
        "<a href=\"https://colab.research.google.com/github/wolfzxcv/ml-examples/blob/master/generate_maintenance_data.ipynb\" target=\"_parent\"><img src=\"https://colab.research.google.com/assets/colab-badge.svg\" alt=\"Open In Colab\"/></a>"
      ]
    },
    {
      "cell_type": "code",
      "execution_count": 2,
      "metadata": {
        "id": "uoiONyPoqz-H"
      },
      "outputs": [],
      "source": [
        "import pandas as pd\n",
        "import numpy as np\n",
        "\n",
        "# Function to create a larger dataset with values rounded to one decimal place\n",
        "def create_large_dataset(data, num_samples):\n",
        "    np.random.seed(42)\n",
        "    large_data = {key: [] for key in data.keys()}\n",
        "    data_length = len(data['engine_temp'])\n",
        "    for _ in range(num_samples // data_length):\n",
        "        for i in range(data_length):\n",
        "            for key in data.keys():\n",
        "                # Add random noise to each feature, maintaining data type for 'maintenance_required'\n",
        "                if key == 'maintenance_required':\n",
        "                    large_data[key].append(data[key][i])\n",
        "                else:\n",
        "                    noise = np.random.normal(0, 1)  # Increased noise variance can reduce the accuracy\n",
        "                    noisy_data = round(data[key][i] + noise, 1)\n",
        "                    large_data[key].append(noisy_data)\n",
        "\n",
        "    # Add remaining samples if num_samples is not an exact multiple of data_length\n",
        "    remaining_samples = num_samples % data_length\n",
        "    if remaining_samples > 0:\n",
        "        for i in range(remaining_samples):\n",
        "            for key in data.keys():\n",
        "                if key == 'maintenance_required':\n",
        "                    large_data[key].append(data[key][i])\n",
        "                else:\n",
        "                    noise = np.random.normal(0, 1)  # Increased noise variance can reduce the accuracy\n",
        "                    noisy_data = round(data[key][i] + noise, 1)\n",
        "                    large_data[key].append(noisy_data)\n",
        "\n",
        "    return pd.DataFrame(large_data)\n",
        "\n",
        "\n",
        "data = {\n",
        "    'engine_temp': [85, 90, 75, 100, 65, 80, 95, 70, 105, 60, 90, 75, 100, 65, 80, 95, 70, 105, 60, 90, 75, 100, 65, 80, 95, 70, 105, 60, 90, 75, 100, 65, 80, 95, 70, 105, 60, 90, 75, 100, 65, 80, 95, 70, 105, 60, 90, 75, 100, 65, 80, 95, 70, 105, 60],\n",
        "    'oil_level': [75, 70, 80, 65, 85, 78, 68, 82, 60, 88, 70, 80, 65, 85, 78, 68, 82, 60, 88, 70, 80, 65, 85, 78, 68, 82, 60, 88, 70, 80, 65, 85, 78, 68, 82, 60, 88, 70, 80, 65, 85, 78, 68, 82, 60, 88, 70, 80, 65, 85, 78, 68, 82, 60, 88],\n",
        "    'tire_pressure': [32, 30, 34, 29, 35, 33, 31, 36, 28, 37, 30, 34, 29, 35, 33, 31, 36, 28, 37, 30, 34, 29, 35, 33, 31, 36, 28, 37, 30, 34, 29, 35, 33, 31, 36, 28, 37, 30, 34, 29, 35, 33, 31, 36, 28, 37, 30, 34, 29, 35, 33, 31, 36, 28, 37],\n",
        "    'battery_voltage': [12.5, 12.3, 12.8, 12.1, 12.6, 12.4, 12.2, 12.9, 11.9, 13.0, 12.3, 12.8, 12.1, 12.6, 12.4, 12.2, 12.9, 11.9, 13.0, 12.3, 12.8, 12.1, 12.6, 12.4, 12.2, 12.9, 11.9, 13.0, 12.3, 12.8, 12.1, 12.6, 12.4, 12.2, 12.9, 11.9, 13.0, 12.3, 12.8, 12.1, 12.6, 12.4, 12.2, 12.9, 11.9, 13.0, 12.3, 12.8, 12.1, 12.6, 12.4, 12.2, 12.9, 11.9, 13.0],\n",
        "    'fuel_consumption': [8, 7.5, 9, 7, 8.5, 8.2, 7.8, 9.1, 6.9, 9.5, 7.5, 9, 7, 8.5, 8.2, 7.8, 9.1, 6.9, 9.5, 7.5, 9, 7, 8.5, 8.2, 7.8, 9.1, 6.9, 9.5, 7.5, 9, 7, 8.5, 8.2, 7.8, 9.1, 6.9, 9.5, 7.5, 9, 7, 8.5, 8.2, 7.8, 9.1, 6.9, 9.5, 7.5, 9, 7, 8.5, 8.2, 7.8, 9.1, 6.9, 9.5],\n",
        "    'maintenance_required': [1, 0, 0, 1, 0, 0, 1, 0, 1, 0, 0, 0, 1, 0, 0, 1, 0, 1, 0, 0, 0, 1, 0, 0, 1, 0, 1, 0, 0, 0, 1, 0, 0, 1, 0, 1, 0, 0, 0, 1, 0, 0, 1, 0, 1, 0, 0, 0, 1, 0, 0, 1, 0, 1, 0]\n",
        "}\n",
        "\n",
        "# Generate a larger dataset\n",
        "large_df = create_large_dataset(data, num_samples=987)\n",
        "\n",
        "large_df = pd.DataFrame(large_df)\n",
        "large_df.to_csv('vehicle_maintenance_data.csv', index=False)"
      ]
    }
  ]
}