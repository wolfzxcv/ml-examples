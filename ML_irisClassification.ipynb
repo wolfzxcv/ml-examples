{
  "nbformat": 4,
  "nbformat_minor": 0,
  "metadata": {
    "colab": {
      "provenance": [],
      "include_colab_link": true
    },
    "kernelspec": {
      "name": "python3",
      "display_name": "Python 3"
    },
    "language_info": {
      "name": "python"
    }
  },
  "cells": [
    {
      "cell_type": "markdown",
      "metadata": {
        "id": "view-in-github",
        "colab_type": "text"
      },
      "source": [
        "<a href=\"https://colab.research.google.com/github/wolfzxcv/ml-examples/blob/master/ML_irisClassification.ipynb\" target=\"_parent\"><img src=\"https://colab.research.google.com/assets/colab-badge.svg\" alt=\"Open In Colab\"/></a>"
      ]
    },
    {
      "cell_type": "markdown",
      "source": [
        "**Import Libraries**"
      ],
      "metadata": {
        "id": "FEWIrlDOVpOJ"
      }
    },
    {
      "cell_type": "code",
      "execution_count": 1,
      "metadata": {
        "id": "ZGMArwCMVMED"
      },
      "outputs": [],
      "source": [
        "from pandas import read_csv\n",
        "from matplotlib import pyplot as plt\n",
        "from sklearn.model_selection import train_test_split, cross_val_score, StratifiedKFold\n",
        "from sklearn.metrics import classification_report, confusion_matrix, accuracy_score\n",
        "from sklearn.linear_model import LogisticRegression\n",
        "from sklearn.tree import DecisionTreeClassifier\n",
        "from sklearn.neighbors import KNeighborsClassifier\n",
        "from sklearn.discriminant_analysis import LinearDiscriminantAnalysis\n",
        "from sklearn.naive_bayes import GaussianNB\n",
        "from sklearn.svm import SVC\n"
      ]
    },
    {
      "cell_type": "markdown",
      "source": [
        "**Load the Data**"
      ],
      "metadata": {
        "id": "gmaKvt7kVx6o"
      }
    },
    {
      "cell_type": "code",
      "source": [
        "url=\"https://raw.githubusercontent.com/jbrownlee/Datasets/master/iris.csv\"\n",
        "names=['sepal-length','sepal-width', 'petal-length','petal-width','class']\n",
        "dataset=read_csv(url, names=names)"
      ],
      "metadata": {
        "id": "auSNQYniV4fF"
      },
      "execution_count": 2,
      "outputs": []
    },
    {
      "cell_type": "markdown",
      "source": [
        "**Explore the Data**"
      ],
      "metadata": {
        "id": "oqN2n-b1XkQ6"
      }
    },
    {
      "cell_type": "code",
      "source": [
        "print ('Input and Output Sizes: ')\n",
        "print (dataset.shape)\n",
        "\n",
        "print ('Peek into the data')\n",
        "print (dataset.head())\n",
        "\n",
        "print ('\\n\\nStatistical Information:')\n",
        "print (dataset.describe())\n",
        "\n",
        "print ('\\n\\nClass Distribution')\n",
        "print (dataset.groupby('class').size())"
      ],
      "metadata": {
        "colab": {
          "base_uri": "https://localhost:8080/"
        },
        "id": "pUQhatwpXmyA",
        "outputId": "d1f1d250-d563-4e27-95b7-5221b3e9e545"
      },
      "execution_count": 3,
      "outputs": [
        {
          "output_type": "stream",
          "name": "stdout",
          "text": [
            "Input and Output Sizes: \n",
            "(150, 5)\n",
            "Peek into the data\n",
            "   sepal-length  sepal-width  petal-length  petal-width        class\n",
            "0           5.1          3.5           1.4          0.2  Iris-setosa\n",
            "1           4.9          3.0           1.4          0.2  Iris-setosa\n",
            "2           4.7          3.2           1.3          0.2  Iris-setosa\n",
            "3           4.6          3.1           1.5          0.2  Iris-setosa\n",
            "4           5.0          3.6           1.4          0.2  Iris-setosa\n",
            "\n",
            "\n",
            "Statistical Information:\n",
            "       sepal-length  sepal-width  petal-length  petal-width\n",
            "count    150.000000   150.000000    150.000000   150.000000\n",
            "mean       5.843333     3.054000      3.758667     1.198667\n",
            "std        0.828066     0.433594      1.764420     0.763161\n",
            "min        4.300000     2.000000      1.000000     0.100000\n",
            "25%        5.100000     2.800000      1.600000     0.300000\n",
            "50%        5.800000     3.000000      4.350000     1.300000\n",
            "75%        6.400000     3.300000      5.100000     1.800000\n",
            "max        7.900000     4.400000      6.900000     2.500000\n",
            "\n",
            "\n",
            "Class Distribution\n",
            "class\n",
            "Iris-setosa        50\n",
            "Iris-versicolor    50\n",
            "Iris-virginica     50\n",
            "dtype: int64\n"
          ]
        }
      ]
    },
    {
      "cell_type": "markdown",
      "source": [
        "**Data Visualizations**"
      ],
      "metadata": {
        "id": "peGhCONNdQj7"
      }
    },
    {
      "cell_type": "code",
      "source": [
        "dataset.plot(kind='box', subplots=True, layout=(2,2))\n",
        "plt.show()"
      ],
      "metadata": {
        "colab": {
          "base_uri": "https://localhost:8080/",
          "height": 434
        },
        "id": "Rx3TZ3AGdZB7",
        "outputId": "e49d8327-d72b-4edd-a8de-d2bd6a6a9f34"
      },
      "execution_count": 4,
      "outputs": [
        {
          "output_type": "display_data",
          "data": {
            "text/plain": [
              "<Figure size 640x480 with 4 Axes>"
            ],
            "image/png": "[encoded data removed]"
          },
          "metadata": {}
        }
      ]
    },
    {
      "cell_type": "markdown",
      "source": [
        "**Train**"
      ],
      "metadata": {
        "id": "iVlrjPJkef9Q"
      }
    },
    {
      "cell_type": "code",
      "source": [
        "array = dataset.values\n",
        "X = array[:, 0:4]\n",
        "y = array[:, 4]\n",
        "\n",
        "X_train, X_validation, Y_train, Y_validation = train_test_split(X, y, test_size=0.2, random_state=1)"
      ],
      "metadata": {
        "id": "d8g75zh2eh-B"
      },
      "execution_count": 5,
      "outputs": []
    },
    {
      "cell_type": "markdown",
      "source": [
        "**Build and Test the Model**"
      ],
      "metadata": {
        "id": "6lpIeLRug3zM"
      }
    },
    {
      "cell_type": "code",
      "source": [
        "model = SVC(gamma='auto')\n",
        "model.fit(X_train, Y_train)\n",
        "predictions=model.predict(X_validation)\n",
        "\n",
        "print ('accuracy: ')\n",
        "print (accuracy_score(Y_validation, predictions))\n",
        "\n",
        "print ('\\n\\nConfusion Matrix:')\n",
        "print (confusion_matrix(Y_validation, predictions))\n",
        "\n",
        "\n",
        "print ('\\n\\nClassification Report')\n",
        "print (classification_report(Y_validation, predictions))"
      ],
      "metadata": {
        "colab": {
          "base_uri": "https://localhost:8080/"
        },
        "id": "dDUok1fHg6D8",
        "outputId": "8a3b398c-1bd5-4cae-d913-84191abcc166"
      },
      "execution_count": 6,
      "outputs": [
        {
          "output_type": "stream",
          "name": "stdout",
          "text": [
            "accuracy: \n",
            "0.9666666666666667\n",
            "\n",
            "\n",
            "Confusion Matrix:\n",
            "[[11  0  0]\n",
            " [ 0 12  1]\n",
            " [ 0  0  6]]\n",
            "\n",
            "\n",
            "Classification Report\n",
            "                 precision    recall  f1-score   support\n",
            "\n",
            "    Iris-setosa       1.00      1.00      1.00        11\n",
            "Iris-versicolor       1.00      0.92      0.96        13\n",
            " Iris-virginica       0.86      1.00      0.92         6\n",
            "\n",
            "       accuracy                           0.97        30\n",
            "      macro avg       0.95      0.97      0.96        30\n",
            "   weighted avg       0.97      0.97      0.97        30\n",
            "\n"
          ]
        }
      ]
    },
    {
      "cell_type": "markdown",
      "source": [
        "**Comparing Multiple Models**"
      ],
      "metadata": {
        "id": "fgWwB93Fkqyr"
      }
    },
    {
      "cell_type": "code",
      "source": [
        "models = []\n",
        "models.append(('Logistic Regression', LogisticRegression(solver='liblinear', multi_class='ovr')))\n",
        "models.append(('Support Vector', SVC()))\n",
        "models.append(('KNN', KNeighborsClassifier()))\n",
        "models.append(('CART', DecisionTreeClassifier()))\n",
        "models.append(('NB', GaussianNB()))\n",
        "\n",
        "\n",
        "results=[]\n",
        "names = []\n",
        "\n",
        "for name, model in models:\n",
        "\tkfold = StratifiedKFold(n_splits=10, random_state=1, shuffle=True)\n",
        "\tcv_results = cross_val_score(model, X_train, Y_train, cv=kfold, scoring='accuracy')\n",
        "\tresults.append(cv_results)\n",
        "\tnames.append(name)\n",
        "\tprint('%s: %f (%f)' % (name, cv_results.mean(), cv_results.std()))\n"
      ],
      "metadata": {
        "colab": {
          "base_uri": "https://localhost:8080/"
        },
        "id": "PMbGIY0AkwtS",
        "outputId": "d2ebf54f-fc1d-4a96-d8f0-adfbcc6c86f2"
      },
      "execution_count": 7,
      "outputs": [
        {
          "output_type": "stream",
          "name": "stdout",
          "text": [
            "Logistic Regression: 0.941667 (0.065085)\n",
            "Support Vector: 0.966667 (0.040825)\n",
            "KNN: 0.958333 (0.041667)\n",
            "CART: 0.941667 (0.053359)\n",
            "NB: 0.950000 (0.055277)\n"
          ]
        }
      ]
    }
  ]
}