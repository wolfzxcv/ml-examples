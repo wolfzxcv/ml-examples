{
  "nbformat": 4,
  "nbformat_minor": 0,
  "metadata": {
    "colab": {
      "provenance": [],
      "include_colab_link": true
    },
    "kernelspec": {
      "name": "python3",
      "display_name": "Python 3"
    },
    "language_info": {
      "name": "python"
    }
  },
  "cells": [
    {
      "cell_type": "markdown",
      "metadata": {
        "id": "view-in-github",
        "colab_type": "text"
      },
      "source": [
        "<a href=\"https://colab.research.google.com/github/wolfzxcv/ml-examples/blob/master/ANN_Perceptron.ipynb\" target=\"_parent\"><img src=\"https://colab.research.google.com/assets/colab-badge.svg\" alt=\"Open In Colab\"/></a>"
      ]
    },
    {
      "cell_type": "code",
      "execution_count": null,
      "metadata": {
        "colab": {
          "base_uri": "https://localhost:8080/"
        },
        "id": "UBT-hvSYfpTS",
        "outputId": "58cd8ab5-df33-4e22-a55a-50af2c6e0f68"
      },
      "outputs": [
        {
          "output_type": "stream",
          "name": "stdout",
          "text": [
            "0 [0.01812199]\n",
            "500 [0.48892868]\n",
            "1000 [0.8975152]\n",
            "1500 [1.2426127]\n",
            "2000 [1.5211815]\n",
            "2500 [1.7301738]\n",
            "3000 [1.8701366]\n",
            "3500 [1.9494612]\n",
            "4000 [1.9851395]\n",
            "4500 [1.9969686]\n"
          ]
        }
      ],
      "source": [
        "import tensorflow as tf\n",
        "import numpy as np\n",
        "\n",
        "x_data = np.random.rand(100).astype(np.float32)\n",
        "y_data = x_data * 2\n",
        "\n",
        "W = tf.Variable(tf.random.normal([1]))\n",
        "#b = tf.Variable(tf.zeros([1]))\n",
        "\n",
        "def mse_loss():\n",
        "    y = W * x_data\n",
        "    loss = tf.reduce_mean(tf.square(y - y_data))\n",
        "    return loss\n",
        "\n",
        "optimizer = tf.keras.optimizers.Adam()\n",
        "for step in range(5000):\n",
        "    optimizer.minimize(mse_loss, var_list=[W])\n",
        "    if step % 500 == 0:\n",
        "        print(step, W.numpy())\n",
        "\n"
      ]
    }
  ]
}