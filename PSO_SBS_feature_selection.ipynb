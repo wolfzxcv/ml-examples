{
  "nbformat": 4,
  "nbformat_minor": 0,
  "metadata": {
    "colab": {
      "provenance": [],
      "include_colab_link": true
    },
    "kernelspec": {
      "name": "python3",
      "display_name": "Python 3"
    },
    "language_info": {
      "name": "python"
    }
  },
  "cells": [
    {
      "cell_type": "markdown",
      "metadata": {
        "id": "view-in-github",
        "colab_type": "text"
      },
      "source": [
        "<a href=\"https://colab.research.google.com/github/wolfzxcv/ml-examples/blob/master/PSO_SBS_feature_selection.ipynb\" target=\"_parent\"><img src=\"https://colab.research.google.com/assets/colab-badge.svg\" alt=\"Open In Colab\"/></a>"
      ]
    },
    {
      "cell_type": "markdown",
      "source": [
        "# Feature selection using Particle Swarm Optimization\n",
        "In this tutorial, Particle Swarm Optimization is used to find an optimal subset of features for an SVM classifier. We will be testing our implementation on the UCI ML Breast Cancer Wisconsin (Diagnostic) dataset."
      ],
      "metadata": {
        "id": "mDFh1jCzG0CJ"
      }
    },
    {
      "cell_type": "markdown",
      "source": [
        "# Dependencies\n",
        "Before we get started, make sure you have the following packages installed:\n",
        "* niapy: `pip install niapy`\n",
        "* scikit-learn: `pip install scikit-learn`"
      ],
      "metadata": {
        "id": "WQAMrHfo2ed4"
      }
    },
    {
      "cell_type": "markdown",
      "source": [
        "# Defining the problem\n",
        "\n",
        "We want to select a subset of relevant features for use in model construction, in order to make prediction faster and more accurate. We will be using Particle Swarm Optimization to search for the optimal subset of features.\n",
        "Our solution vector will represent a subset of features:\n",
        "```\n",
        "x=[x1,x2,…,xd];xi∈[0,1]\n",
        "```\n",
        "Where d is the total number of features in the dataset. We will then use a threshold of 0.5 to determine whether the feature will be selected:\n",
        "```\n",
        "xi={1,if xi>0.50,otherwise\n",
        "```\n",
        "\n",
        "The function we’ll be optimizing is the classification accuracy penalized by the number of features selected, that means we’ll be minimizing the following function:\n",
        "```\n",
        "f(x)=α × (1−P)+(1−α) × (Nselected/Nfeatures)\n",
        "```\n",
        "Where α is the parameter that decides the tradeoff between classifier performance P (classification accuracy in our case) and the number of selected features with respect to the number of all features.\n",
        "\n"
      ],
      "metadata": {
        "id": "0a_Y15FT3Ed9"
      }
    },
    {
      "cell_type": "markdown",
      "source": [
        "# Implementation"
      ],
      "metadata": {
        "id": "You3gFhe3UX7"
      }
    },
    {
      "cell_type": "code",
      "source": [
        "! pip install niapy==2.0.2\n",
        "! pip install pandas==2.0.3"
      ],
      "metadata": {
        "colab": {
          "base_uri": "https://localhost:8080/"
        },
        "id": "nyDaWQJioGNw",
        "outputId": "065414cc-4fdc-4d7e-ac4d-0f78d7418efd"
      },
      "execution_count": 1,
      "outputs": [
        {
          "output_type": "stream",
          "name": "stdout",
          "text": [
            "Requirement already satisfied: niapy==2.0.2 in /usr/local/lib/python3.10/dist-packages (2.0.2)\n",
            "Requirement already satisfied: numpy>=1.17.0 in /usr/local/lib/python3.10/dist-packages (from niapy==2.0.2) (1.26.4)\n",
            "Requirement already satisfied: matplotlib>=2.2.4 in /usr/local/lib/python3.10/dist-packages (from niapy==2.0.2) (3.9.0)\n",
            "Requirement already satisfied: pandas>=0.24.2 in /usr/local/lib/python3.10/dist-packages (from niapy==2.0.2) (2.0.3)\n",
            "Requirement already satisfied: openpyxl>=3.0.3 in /usr/local/lib/python3.10/dist-packages (from niapy==2.0.2) (3.1.2)\n",
            "Requirement already satisfied: contourpy>=1.0.1 in /usr/local/lib/python3.10/dist-packages (from matplotlib>=2.2.4->niapy==2.0.2) (1.2.1)\n",
            "Requirement already satisfied: cycler>=0.10 in /usr/local/lib/python3.10/dist-packages (from matplotlib>=2.2.4->niapy==2.0.2) (0.12.1)\n",
            "Requirement already satisfied: fonttools>=4.22.0 in /usr/local/lib/python3.10/dist-packages (from matplotlib>=2.2.4->niapy==2.0.2) (4.51.0)\n",
            "Requirement already satisfied: kiwisolver>=1.3.1 in /usr/local/lib/python3.10/dist-packages (from matplotlib>=2.2.4->niapy==2.0.2) (1.4.5)\n",
            "Requirement already satisfied: packaging>=20.0 in /usr/local/lib/python3.10/dist-packages (from matplotlib>=2.2.4->niapy==2.0.2) (24.0)\n",
            "Requirement already satisfied: pillow>=8 in /usr/local/lib/python3.10/dist-packages (from matplotlib>=2.2.4->niapy==2.0.2) (9.4.0)\n",
            "Requirement already satisfied: pyparsing>=2.3.1 in /usr/local/lib/python3.10/dist-packages (from matplotlib>=2.2.4->niapy==2.0.2) (3.1.2)\n",
            "Requirement already satisfied: python-dateutil>=2.7 in /usr/local/lib/python3.10/dist-packages (from matplotlib>=2.2.4->niapy==2.0.2) (2.8.2)\n",
            "Requirement already satisfied: et-xmlfile in /usr/local/lib/python3.10/dist-packages (from openpyxl>=3.0.3->niapy==2.0.2) (1.1.0)\n",
            "Requirement already satisfied: pytz>=2020.1 in /usr/local/lib/python3.10/dist-packages (from pandas>=0.24.2->niapy==2.0.2) (2023.4)\n",
            "Requirement already satisfied: tzdata>=2022.1 in /usr/local/lib/python3.10/dist-packages (from pandas>=0.24.2->niapy==2.0.2) (2024.1)\n",
            "Requirement already satisfied: six>=1.5 in /usr/local/lib/python3.10/dist-packages (from python-dateutil>=2.7->matplotlib>=2.2.4->niapy==2.0.2) (1.16.0)\n",
            "Requirement already satisfied: pandas==2.0.3 in /usr/local/lib/python3.10/dist-packages (2.0.3)\n",
            "Requirement already satisfied: python-dateutil>=2.8.2 in /usr/local/lib/python3.10/dist-packages (from pandas==2.0.3) (2.8.2)\n",
            "Requirement already satisfied: pytz>=2020.1 in /usr/local/lib/python3.10/dist-packages (from pandas==2.0.3) (2023.4)\n",
            "Requirement already satisfied: tzdata>=2022.1 in /usr/local/lib/python3.10/dist-packages (from pandas==2.0.3) (2024.1)\n",
            "Requirement already satisfied: numpy>=1.21.0 in /usr/local/lib/python3.10/dist-packages (from pandas==2.0.3) (1.26.4)\n",
            "Requirement already satisfied: six>=1.5 in /usr/local/lib/python3.10/dist-packages (from python-dateutil>=2.8.2->pandas==2.0.3) (1.16.0)\n"
          ]
        }
      ]
    },
    {
      "cell_type": "code",
      "execution_count": 2,
      "metadata": {
        "id": "jIk6cp8LnEAY"
      },
      "outputs": [],
      "source": [
        "from sklearn.datasets import load_breast_cancer\n",
        "from sklearn.model_selection import train_test_split, cross_val_score\n",
        "from sklearn.svm import SVC\n",
        "\n",
        "from niapy.problems import Problem\n",
        "from niapy.task import Task\n",
        "from niapy.algorithms.basic import ParticleSwarmOptimization\n",
        "\n",
        "import pandas as pd"
      ]
    },
    {
      "cell_type": "markdown",
      "source": [
        "First implement the Problem class, which implements the optimization function defined above. It takes the training dataset, and the α parameter, which is set to 0.99 by default.\n",
        "For the objective function, the solution vector is first converted to binary, using the threshold value of 0.5. That gives us indices of the selected features. If no features were selected 1.0 is returned as the fitness. We then compute the mean accuracy of running 2-fold cross validation on the training set, and calculate the value of the optimization function defined above."
      ],
      "metadata": {
        "id": "rqMW-lW6nQmH"
      }
    },
    {
      "cell_type": "code",
      "source": [
        "class SVMFeatureSelection(Problem):\n",
        "    def __init__(self, X_train, y_train, alpha=0.99):\n",
        "        super().__init__(dimension=X_train.shape[1], lower=0, upper=1)\n",
        "        self.X_train = X_train\n",
        "        self.y_train = y_train\n",
        "        self.alpha = alpha\n",
        "\n",
        "    def _evaluate(self, x):\n",
        "        selected = x > 0.5\n",
        "        num_selected = selected.sum()\n",
        "        if num_selected == 0:\n",
        "            return 1.0\n",
        "        accuracy = cross_val_score(SVC(), self.X_train[:, selected], self.y_train, cv=2, n_jobs=-1).mean()\n",
        "        score = 1 - accuracy\n",
        "        num_features = self.X_train.shape[1]\n",
        "        return self.alpha * score + (1 - self.alpha) * (num_selected / num_features)"
      ],
      "metadata": {
        "id": "oINoLZ-UnJSG"
      },
      "execution_count": 3,
      "outputs": []
    },
    {
      "cell_type": "markdown",
      "source": [
        "Load the dataset, run the algorithm and compare the results."
      ],
      "metadata": {
        "id": "R1DUAue1nTU7"
      }
    },
    {
      "cell_type": "code",
      "source": [
        "dataset = load_breast_cancer()\n",
        "X = dataset.data\n",
        "y = dataset.target\n",
        "feature_names = dataset.feature_names\n",
        "\n",
        "# Export .csv to see the data, you don't need these 2 lines\n",
        "df = pd.DataFrame(data=X, columns = feature_names)\n",
        "df.to_csv('breast_cancer.csv', sep = ',', index = False)\n",
        "\n",
        "X_train, X_test, y_train, y_test = train_test_split(X, y, test_size=0.2, stratify=y, random_state=1234)\n",
        "\n",
        "problem = SVMFeatureSelection(X_train, y_train)\n",
        "task = Task(problem, max_iters=100)\n",
        "algorithm = ParticleSwarmOptimization(population_size=10, seed=1234)\n",
        "best_features, best_fitness = algorithm.run(task)\n",
        "\n",
        "selected_features = best_features > 0.5\n",
        "print('Number of selected features:', selected_features.sum())\n",
        "print('Selected features:', ', '.join(feature_names[selected_features].tolist()))\n",
        "\n",
        "model_selected = SVC()\n",
        "model_all = SVC()\n",
        "\n",
        "model_selected.fit(X_train[:, selected_features], y_train)\n",
        "print('Subset accuracy:', model_selected.score(X_test[:, selected_features], y_test))\n",
        "\n",
        "model_all.fit(X_train, y_train)\n",
        "print('All Features Accuracy:', model_all.score(X_test, y_test))"
      ],
      "metadata": {
        "colab": {
          "base_uri": "https://localhost:8080/"
        },
        "id": "fyNWUMRDnYdR",
        "outputId": "39fd4062-be4b-4956-aa83-235657a3c898"
      },
      "execution_count": 4,
      "outputs": [
        {
          "output_type": "stream",
          "name": "stdout",
          "text": [
            "Number of selected features: 4\n",
            "Selected features: mean smoothness, mean concavity, mean symmetry, worst area\n",
            "Subset accuracy: 0.9210526315789473\n",
            "All Features Accuracy: 0.9122807017543859\n"
          ]
        }
      ]
    },
    {
      "cell_type": "markdown",
      "source": [
        "# Same data, but using Sequential backward selection (SBS)"
      ],
      "metadata": {
        "id": "SqhtjbBi6Yv8"
      }
    },
    {
      "cell_type": "code",
      "source": [
        "from sklearn.datasets import load_breast_cancer\n",
        "from sklearn.model_selection import train_test_split\n",
        "from sklearn.svm import SVC\n",
        "from sklearn.feature_selection import SequentialFeatureSelector\n",
        "from sklearn.metrics import accuracy_score"
      ],
      "metadata": {
        "id": "QkzLGMvD6lbe"
      },
      "execution_count": 5,
      "outputs": []
    },
    {
      "cell_type": "code",
      "source": [
        "dataset = load_breast_cancer()\n",
        "X = dataset.data\n",
        "y = dataset.target\n",
        "feature_names = dataset.feature_names\n",
        "\n",
        "X_train, X_test, y_train, y_test = train_test_split(X, y, test_size=0.2, stratify=y, random_state=1234)\n",
        "\n",
        "# Define the classifier\n",
        "model = SVC()\n",
        "\n",
        "# Initialize the sequential backward feature selector\n",
        "# You can also modify the direction, it can be either 'backward' or 'forward', default='forward'. Forward selection: add, backward selection: remove.\n",
        "# You can modify n_features_to_select, set it to a specific number, n_features_to_select=4, or, n_features_to_select='auto'\n",
        "sbs = SequentialFeatureSelector(model, direction='backward', n_features_to_select='auto')\n",
        "\n",
        "# Fit the sequential backward feature selector to the training data\n",
        "sbs.fit(X_train, y_train)\n",
        "\n",
        "# Get selected feature names\n",
        "selected_feature_names = feature_names[sbs.get_support()]\n",
        "\n",
        "# Select features for training and testing data\n",
        "X_train_selected = sbs.transform(X_train)\n",
        "X_test_selected = sbs.transform(X_test)\n",
        "\n",
        "# Train the classifier on the selected features\n",
        "model.fit(X_train_selected, y_train)\n",
        "\n",
        "# Make predictions on the testing data using selected features\n",
        "y_pred_selected = model.predict(X_test_selected)\n",
        "\n",
        "print('Number of selected features:', len(selected_feature_names))\n",
        "\n",
        "# Print selected feature names\n",
        "print('Selected features:', ', '.join(selected_feature_names))\n",
        "\n",
        "# Calculate accuracy using selected features\n",
        "accuracy_selected = accuracy_score(y_test, y_pred_selected)\n",
        "print(\"Subset accuracy:\", accuracy_selected)\n",
        "\n",
        "# Train the classifier on all features\n",
        "model.fit(X_train, y_train)\n",
        "\n",
        "# Make predictions on the testing data using all features\n",
        "y_pred_all_features = model.predict(X_test)\n",
        "\n",
        "# Calculate accuracy using all features\n",
        "accuracy_all_features = accuracy_score(y_test, y_pred_all_features)\n",
        "print(\"All Features Accuracy:\", accuracy_all_features)"
      ],
      "metadata": {
        "colab": {
          "base_uri": "https://localhost:8080/"
        },
        "id": "fXDbAnvj6yqV",
        "outputId": "69aa0f8b-7eff-48c0-ae26-ce749af65550"
      },
      "execution_count": 6,
      "outputs": [
        {
          "output_type": "stream",
          "name": "stdout",
          "text": [
            "Number of selected features: 15\n",
            "Selected features: smoothness error, compactness error, concavity error, concave points error, symmetry error, fractal dimension error, worst radius, worst texture, worst perimeter, worst smoothness, worst compactness, worst concavity, worst concave points, worst symmetry, worst fractal dimension\n",
            "Subset accuracy: 0.9473684210526315\n",
            "All Features Accuracy: 0.9122807017543859\n"
          ]
        }
      ]
    }
  ]
}