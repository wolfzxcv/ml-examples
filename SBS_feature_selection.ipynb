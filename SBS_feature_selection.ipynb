{
  "nbformat": 4,
  "nbformat_minor": 0,
  "metadata": {
    "colab": {
      "provenance": [],
      "authorship_tag": "ABX9TyP1lbGzSYEKb3r5vE87kdU4",
      "include_colab_link": true
    },
    "kernelspec": {
      "name": "python3",
      "display_name": "Python 3"
    },
    "language_info": {
      "name": "python"
    }
  },
  "cells": [
    {
      "cell_type": "markdown",
      "metadata": {
        "id": "view-in-github",
        "colab_type": "text"
      },
      "source": [
        "<a href=\"https://colab.research.google.com/github/wolfzxcv/ml-examples/blob/master/SBS_feature_selection.ipynb\" target=\"_parent\"><img src=\"https://colab.research.google.com/assets/colab-badge.svg\" alt=\"Open In Colab\"/></a>"
      ]
    },
    {
      "cell_type": "code",
      "execution_count": 17,
      "metadata": {
        "id": "YFES5M4u35yg"
      },
      "outputs": [],
      "source": [
        "from sklearn.datasets import load_breast_cancer\n",
        "from sklearn.model_selection import train_test_split\n",
        "from sklearn.svm import SVC\n",
        "from sklearn.feature_selection import SequentialFeatureSelector\n",
        "from sklearn.metrics import accuracy_score"
      ]
    },
    {
      "cell_type": "code",
      "source": [
        "dataset = load_breast_cancer()\n",
        "X = dataset.data\n",
        "y = dataset.target\n",
        "feature_names = dataset.feature_names"
      ],
      "metadata": {
        "collapsed": true,
        "id": "a9JI5da53_sJ"
      },
      "execution_count": 18,
      "outputs": []
    },
    {
      "cell_type": "code",
      "source": [
        "# Export .csv to see the data, you don't need these few lines\n",
        "import pandas as pd\n",
        "\n",
        "# Create a DataFrame with the features\n",
        "df = pd.DataFrame(data=X, columns=feature_names)\n",
        "\n",
        "# Add the target variable as the last column\n",
        "df['target'] = y\n",
        "\n",
        "# Export the DataFrame to a CSV file\n",
        "df.to_csv('breast_cancer.csv', sep=',', index=False)"
      ],
      "metadata": {
        "id": "17sXFwWd9xvC"
      },
      "execution_count": 19,
      "outputs": []
    },
    {
      "cell_type": "code",
      "source": [
        "X_train, X_test, y_train, y_test = train_test_split(X, y, test_size=0.2, stratify=y, random_state=1234)\n",
        "\n",
        "# Define the classifier\n",
        "clf = SVC()\n",
        "\n",
        "# Initialize the sequential backward feature selector\n",
        "# You can also modify the direction, it can be either 'backward' or 'forward', default='forward'. Forward selection: add, backward selection: remove.\n",
        "# You can modify n_features_to_select, set it to a specific number, n_features_to_select=4, or, n_features_to_select='auto'\n",
        "sbs = SequentialFeatureSelector(clf, direction='backward', n_features_to_select='auto')\n",
        "\n",
        "# Fit the sequential backward feature selector to the training data\n",
        "sbs.fit(X_train, y_train)\n",
        "\n",
        "# Get selected feature names\n",
        "selected_feature_names = feature_names[sbs.get_support()]\n",
        "\n",
        "# Transform data, let training and testing data contain only select features\n",
        "X_train_selected = sbs.transform(X_train)\n",
        "X_test_selected = sbs.transform(X_test)\n",
        "\n",
        "# Train the classifier on the selected features\n",
        "clf.fit(X_train_selected, y_train)\n",
        "\n",
        "# Make predictions on the testing data using selected features\n",
        "y_pred_selected = clf.predict(X_test_selected)\n",
        "\n",
        "print('Number of selected features:', len(selected_feature_names))\n",
        "\n",
        "# Print selected feature names\n",
        "print('Selected features:', ', '.join(selected_feature_names))\n",
        "\n",
        "# Calculate accuracy using selected features\n",
        "accuracy_selected = accuracy_score(y_test, y_pred_selected)\n",
        "print(\"Subset accuracy:\", accuracy_selected)\n",
        "\n",
        "# Train the classifier on all features\n",
        "clf.fit(X_train, y_train)\n",
        "\n",
        "# Make predictions on the testing data using all features\n",
        "y_pred_all_features = clf.predict(X_test)\n",
        "\n",
        "# Calculate accuracy using all features\n",
        "accuracy_all_features = accuracy_score(y_test, y_pred_all_features)\n",
        "print(\"All Features Accuracy:\", accuracy_all_features)"
      ],
      "metadata": {
        "colab": {
          "base_uri": "https://localhost:8080/"
        },
        "id": "YHfmTybf4HD4",
        "outputId": "dfb424c3-a05f-4657-fe3a-7275bc1b6130"
      },
      "execution_count": 20,
      "outputs": [
        {
          "output_type": "stream",
          "name": "stdout",
          "text": [
            "Number of selected features: 15\n",
            "Selected features: smoothness error, compactness error, concavity error, concave points error, symmetry error, fractal dimension error, worst radius, worst texture, worst perimeter, worst smoothness, worst compactness, worst concavity, worst concave points, worst symmetry, worst fractal dimension\n",
            "Subset accuracy: 0.9473684210526315\n",
            "All Features Accuracy: 0.9122807017543859\n"
          ]
        }
      ]
    }
  ]
}