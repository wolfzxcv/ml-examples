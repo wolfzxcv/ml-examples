{
  "nbformat": 4,
  "nbformat_minor": 0,
  "metadata": {
    "colab": {
      "provenance": [],
      "authorship_tag": "ABX9TyO2usTVyDwVPh2hbzFedbHE",
      "include_colab_link": true
    },
    "kernelspec": {
      "name": "python3",
      "display_name": "Python 3"
    },
    "language_info": {
      "name": "python"
    }
  },
  "cells": [
    {
      "cell_type": "markdown",
      "metadata": {
        "id": "view-in-github",
        "colab_type": "text"
      },
      "source": [
        "<a href=\"https://colab.research.google.com/github/wolfzxcv/ml-examples/blob/master/iris_classification.ipynb\" target=\"_parent\"><img src=\"https://colab.research.google.com/assets/colab-badge.svg\" alt=\"Open In Colab\"/></a>"
      ]
    },
    {
      "cell_type": "code",
      "source": [
        "import pandas as pd\n",
        "from sklearn.datasets import load_iris\n",
        "from sklearn.model_selection import train_test_split, cross_val_score\n",
        "from sklearn.metrics import classification_report, confusion_matrix, accuracy_score\n",
        "from sklearn.linear_model import LogisticRegression\n",
        "from sklearn.naive_bayes import GaussianNB\n",
        "from sklearn.svm import SVC\n",
        "from sklearn.neighbors import KNeighborsClassifier\n",
        "from sklearn.tree import DecisionTreeClassifier\n",
        "from sklearn.ensemble import RandomForestClassifier"
      ],
      "metadata": {
        "id": "w9DC19jGu80G"
      },
      "execution_count": 1,
      "outputs": []
    },
    {
      "cell_type": "code",
      "execution_count": 2,
      "metadata": {
        "colab": {
          "base_uri": "https://localhost:8080/"
        },
        "id": "K4o-kQIXu5pS",
        "outputId": "3a22b656-5673-4048-b345-37fd45d63f5b"
      },
      "outputs": [
        {
          "output_type": "stream",
          "name": "stdout",
          "text": [
            "Logistic Regression: 0.950000 (0.040825)\n",
            "Naive Bayes: 0.966667 (0.031180)\n",
            "Support Vector Classifier: 0.966667 (0.040825)\n",
            "K-Nearest Neighbors: 0.966667 (0.048591)\n",
            "Decision Tree: 0.966667 (0.031180)\n",
            "Random Forest: 0.958333 (0.037268)\n"
          ]
        }
      ],
      "source": [
        "# Load the iris dataset\n",
        "iris = load_iris()\n",
        "X = iris.data\n",
        "y = iris.target\n",
        "\n",
        "# Split dataset into training and test sets\n",
        "X_train, X_test, y_train, y_test = train_test_split(X, y, test_size=0.2, stratify=y, random_state=999)\n",
        "\n",
        "# Define models\n",
        "models = [\n",
        "    ('Logistic Regression', LogisticRegression(solver='liblinear', multi_class='ovr')),\n",
        "    ('Naive Bayes', GaussianNB()),\n",
        "    ('Support Vector Classifier', SVC(gamma='auto')),\n",
        "    ('K-Nearest Neighbors', KNeighborsClassifier(n_neighbors=3)),\n",
        "    ('Decision Tree', DecisionTreeClassifier()),\n",
        "    ('Random Forest', RandomForestClassifier())\n",
        "]\n",
        "\n",
        "# Perform cross-validation and store results\n",
        "for name, model in models:\n",
        "    cv_results = cross_val_score(model, X_train, y_train, cv=5, scoring='accuracy')\n",
        "    print(f'{name}: {cv_results.mean():.6f} ({cv_results.std():.6f})')\n"
      ]
    },
    {
      "cell_type": "code",
      "source": [
        "# Fit the model on the training data and make predictions on the test data\n",
        "final_model = SVC(gamma='auto')\n",
        "final_model.fit(X_train, y_train)\n",
        "predictions = final_model.predict(X_test)\n",
        "\n",
        "# Evaluate on test set\n",
        "print('Accuracy:')\n",
        "print(accuracy_score(y_test, predictions))\n",
        "\n",
        "print('\\nConfusion Matrix:')\n",
        "conf_matrix = confusion_matrix(y_test, predictions)\n",
        "conf_matrix_df = pd.DataFrame(conf_matrix, index=iris.target_names, columns=iris.target_names)\n",
        "conf_matrix_df.index.name = \"True Label\"\n",
        "conf_matrix_df.columns.name = \"Predicted Label\"\n",
        "print(conf_matrix_df)\n",
        "\n",
        "print('\\nClassification Report:')\n",
        "print(classification_report(y_test, predictions, target_names=iris.target_names))"
      ],
      "metadata": {
        "colab": {
          "base_uri": "https://localhost:8080/"
        },
        "id": "dRmHMRZw4Y1f",
        "outputId": "4836c587-3e7a-4ad2-abf3-dc3fa250dbb6"
      },
      "execution_count": 3,
      "outputs": [
        {
          "output_type": "stream",
          "name": "stdout",
          "text": [
            "Accuracy:\n",
            "0.9666666666666667\n",
            "\n",
            "Confusion Matrix:\n",
            "Predicted Label  setosa  versicolor  virginica\n",
            "True Label                                    \n",
            "setosa               10           0          0\n",
            "versicolor            0          10          0\n",
            "virginica             0           1          9\n",
            "\n",
            "Classification Report:\n",
            "              precision    recall  f1-score   support\n",
            "\n",
            "      setosa       1.00      1.00      1.00        10\n",
            "  versicolor       0.91      1.00      0.95        10\n",
            "   virginica       1.00      0.90      0.95        10\n",
            "\n",
            "    accuracy                           0.97        30\n",
            "   macro avg       0.97      0.97      0.97        30\n",
            "weighted avg       0.97      0.97      0.97        30\n",
            "\n"
          ]
        }
      ]
    }
  ]
}