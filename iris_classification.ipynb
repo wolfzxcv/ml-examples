{
  "nbformat": 4,
  "nbformat_minor": 0,
  "metadata": {
    "colab": {
      "provenance": [],
      "authorship_tag": "ABX9TyM9ihW09ez93PzE6Bud6jwP",
      "include_colab_link": true
    },
    "kernelspec": {
      "name": "python3",
      "display_name": "Python 3"
    },
    "language_info": {
      "name": "python"
    }
  },
  "cells": [
    {
      "cell_type": "markdown",
      "metadata": {
        "id": "view-in-github",
        "colab_type": "text"
      },
      "source": [
        "<a href=\"https://colab.research.google.com/github/wolfzxcv/ml-examples/blob/master/iris_classification.ipynb\" target=\"_parent\"><img src=\"https://colab.research.google.com/assets/colab-badge.svg\" alt=\"Open In Colab\"/></a>"
      ]
    },
    {
      "cell_type": "code",
      "source": [
        "import pandas as pd\n",
        "from sklearn.datasets import load_iris\n",
        "from sklearn.model_selection import train_test_split, cross_val_score\n",
        "from sklearn.metrics import classification_report, confusion_matrix, accuracy_score\n",
        "from sklearn.linear_model import LogisticRegression\n",
        "from sklearn.naive_bayes import GaussianNB\n",
        "from sklearn.svm import SVC\n",
        "from sklearn.neighbors import KNeighborsClassifier\n",
        "from sklearn.tree import DecisionTreeClassifier\n",
        "from sklearn.ensemble import RandomForestClassifier"
      ],
      "metadata": {
        "id": "w9DC19jGu80G"
      },
      "execution_count": 48,
      "outputs": []
    },
    {
      "cell_type": "code",
      "execution_count": 49,
      "metadata": {
        "colab": {
          "base_uri": "https://localhost:8080/"
        },
        "id": "K4o-kQIXu5pS",
        "outputId": "2bf47c35-53a8-4c5f-d52a-af0b59c7b7bd"
      },
      "outputs": [
        {
          "output_type": "stream",
          "name": "stdout",
          "text": [
            "Logistic Regression: 0.933333 (0.042492)\n",
            "Naive Bayes: 0.941667 (0.033333)\n",
            "Support Vector Classifier: 0.975000 (0.020412)\n",
            "K-Nearest Neighbors: 0.958333 (0.026352)\n",
            "Decision Tree: 0.941667 (0.056519)\n",
            "Random Forest: 0.941667 (0.056519)\n"
          ]
        }
      ],
      "source": [
        "# Load the iris dataset\n",
        "iris = load_iris()\n",
        "X = iris.data\n",
        "y = iris.target\n",
        "\n",
        "# Split dataset into training and test sets\n",
        "RANDOM_STATE = 1\n",
        "X_train, X_test, y_train, y_test = train_test_split(X, y, test_size=0.2, random_state=RANDOM_STATE)\n",
        "\n",
        "# Define models\n",
        "models = [\n",
        "    ('Logistic Regression', LogisticRegression(solver='liblinear', multi_class='ovr')),\n",
        "    ('Naive Bayes', GaussianNB()),\n",
        "    ('Support Vector Classifier', SVC(gamma='auto')),\n",
        "    ('K-Nearest Neighbors', KNeighborsClassifier(n_neighbors=3)),\n",
        "    ('Decision Tree', DecisionTreeClassifier()),\n",
        "    ('Random Forest', RandomForestClassifier())\n",
        "]\n",
        "\n",
        "# Perform cross-validation and store results\n",
        "for name, model in models:\n",
        "    cv_results = cross_val_score(model, X_train, y_train, cv=5, scoring='accuracy')\n",
        "    print(f'{name}: {cv_results.mean():.6f} ({cv_results.std():.6f})')\n"
      ]
    },
    {
      "cell_type": "code",
      "source": [
        "# Fit the model on the training data and make predictions on the test data\n",
        "final_model = SVC(gamma='auto')\n",
        "final_model.fit(X_train, y_train)\n",
        "predictions = final_model.predict(X_test)\n",
        "\n",
        "# Evaluate on test set\n",
        "print('Accuracy:')\n",
        "print(accuracy_score(y_test, predictions))\n",
        "\n",
        "print('\\nConfusion Matrix:')\n",
        "conf_matrix = confusion_matrix(y_test, predictions)\n",
        "conf_matrix_df = pd.DataFrame(conf_matrix, index=iris.target_names, columns=iris.target_names)\n",
        "conf_matrix_df.index.name = \"True Label\"\n",
        "conf_matrix_df.columns.name = \"Predicted Label\"\n",
        "print(conf_matrix_df)\n",
        "\n",
        "print('\\nClassification Report:')\n",
        "print(classification_report(y_test, predictions, target_names=iris.target_names))"
      ],
      "metadata": {
        "colab": {
          "base_uri": "https://localhost:8080/"
        },
        "id": "dRmHMRZw4Y1f",
        "outputId": "68add49a-3e6c-478d-d7c7-53232d41478d"
      },
      "execution_count": 50,
      "outputs": [
        {
          "output_type": "stream",
          "name": "stdout",
          "text": [
            "Accuracy:\n",
            "0.9666666666666667\n",
            "\n",
            "Confusion Matrix:\n",
            "Predicted Label  setosa  versicolor  virginica\n",
            "True Label                                    \n",
            "setosa               11           0          0\n",
            "versicolor            0          12          1\n",
            "virginica             0           0          6\n",
            "\n",
            "Classification Report:\n",
            "              precision    recall  f1-score   support\n",
            "\n",
            "      setosa       1.00      1.00      1.00        11\n",
            "  versicolor       1.00      0.92      0.96        13\n",
            "   virginica       0.86      1.00      0.92         6\n",
            "\n",
            "    accuracy                           0.97        30\n",
            "   macro avg       0.95      0.97      0.96        30\n",
            "weighted avg       0.97      0.97      0.97        30\n",
            "\n"
          ]
        }
      ]
    }
  ]
}